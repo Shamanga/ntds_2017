{
 "cells": [
  {
   "cell_type": "markdown",
   "metadata": {},
   "source": [
    "# Lab Session 2: Numpy\n",
    "Hermina Petric Maretic, *PhD student*, [EPFL](http://epfl.ch) [LTS4](http://lts4.epfl.ch)"
   ]
  },
  {
   "cell_type": "markdown",
   "metadata": {},
   "source": [
    "[NumPy](http://www.numpy.org) is the fundamental package for scientific computing with Python. It contains among other things:\n",
    "* a powerful N-dimensional array object\n",
    "* sophisticated (broadcasting) functions\n",
    "* tools for integrating C/C++ and Fortran code\n",
    "* useful linear algebra, Fourier transform, and random number capabilities\n",
    "\n",
    "Besides its obvious scientific uses, NumPy can also be used as an efficient multi-dimensional container of generic data. Arbitrary data-types can be defined. This allows NumPy to seamlessly and speedily integrate with a wide variety of databases."
   ]
  },
  {
   "cell_type": "code",
   "execution_count": 1,
   "metadata": {
    "collapsed": true
   },
   "outputs": [],
   "source": [
    "import numpy as np"
   ]
  },
  {
   "cell_type": "code",
   "execution_count": 2,
   "metadata": {},
   "outputs": [
    {
     "data": {
      "text/plain": [
       "array([1, 2, 3, 4])"
      ]
     },
     "execution_count": 2,
     "metadata": {},
     "output_type": "execute_result"
    }
   ],
   "source": [
    "#create a numpy array\n",
    "a = np.array([1,2,3,4])\n",
    "a"
   ]
  },
  {
   "cell_type": "code",
   "execution_count": 3,
   "metadata": {},
   "outputs": [
    {
     "data": {
      "text/plain": [
       "array([[1, 2],\n",
       "       [3, 4]])"
      ]
     },
     "execution_count": 3,
     "metadata": {},
     "output_type": "execute_result"
    }
   ],
   "source": [
    "#or a 2 dimensional array\n",
    "m = np.array([[1,2],[3,4]])\n",
    "m"
   ]
  },
  {
   "cell_type": "code",
   "execution_count": 4,
   "metadata": {},
   "outputs": [
    {
     "data": {
      "text/plain": [
       "1"
      ]
     },
     "execution_count": 4,
     "metadata": {},
     "output_type": "execute_result"
    }
   ],
   "source": [
    "m[0,0]"
   ]
  },
  {
   "cell_type": "code",
   "execution_count": 5,
   "metadata": {},
   "outputs": [
    {
     "data": {
      "text/plain": [
       "array([2, 4])"
      ]
     },
     "execution_count": 5,
     "metadata": {},
     "output_type": "execute_result"
    }
   ],
   "source": [
    "m[:,1]"
   ]
  },
  {
   "cell_type": "code",
   "execution_count": 6,
   "metadata": {},
   "outputs": [
    {
     "data": {
      "text/plain": [
       "array([1, 2])"
      ]
     },
     "execution_count": 6,
     "metadata": {},
     "output_type": "execute_result"
    }
   ],
   "source": [
    "a[:2]"
   ]
  },
  {
   "cell_type": "code",
   "execution_count": 7,
   "metadata": {},
   "outputs": [
    {
     "data": {
      "text/plain": [
       "3"
      ]
     },
     "execution_count": 7,
     "metadata": {},
     "output_type": "execute_result"
    }
   ],
   "source": [
    "a[-2] #second last element of the array"
   ]
  },
  {
   "cell_type": "code",
   "execution_count": 8,
   "metadata": {},
   "outputs": [
    {
     "data": {
      "text/plain": [
       "array([3, 4])"
      ]
     },
     "execution_count": 8,
     "metadata": {},
     "output_type": "execute_result"
    }
   ],
   "source": [
    "a[-2:] #last two elements of the array"
   ]
  },
  {
   "cell_type": "markdown",
   "metadata": {},
   "source": [
    "### Careful if you're used to Python list"
   ]
  },
  {
   "cell_type": "code",
   "execution_count": 9,
   "metadata": {
    "collapsed": true
   },
   "outputs": [],
   "source": [
    "b = [1,2,3,4]"
   ]
  },
  {
   "cell_type": "code",
   "execution_count": 11,
   "metadata": {},
   "outputs": [
    {
     "data": {
      "text/plain": [
       "[1, 2, 3, 4, 1, 2, 3, 4]"
      ]
     },
     "execution_count": 11,
     "metadata": {},
     "output_type": "execute_result"
    }
   ],
   "source": [
    "b + b\n"
   ]
  },
  {
   "cell_type": "code",
   "execution_count": 13,
   "metadata": {},
   "outputs": [
    {
     "data": {
      "text/plain": [
       "array([2, 4, 6, 8])"
      ]
     },
     "execution_count": 13,
     "metadata": {},
     "output_type": "execute_result"
    }
   ],
   "source": [
    "a + a\n"
   ]
  },
  {
   "cell_type": "code",
   "execution_count": 14,
   "metadata": {},
   "outputs": [
    {
     "data": {
      "text/plain": [
       "array([1, 2, 3, 4, 1, 2, 3, 4])"
      ]
     },
     "execution_count": 14,
     "metadata": {},
     "output_type": "execute_result"
    }
   ],
   "source": [
    "#if you want to add elements to a\n",
    "np.append(a,a)"
   ]
  },
  {
   "cell_type": "code",
   "execution_count": 15,
   "metadata": {},
   "outputs": [
    {
     "data": {
      "text/plain": [
       "array([1, 2, 3, 4, 1, 2, 3])"
      ]
     },
     "execution_count": 15,
     "metadata": {},
     "output_type": "execute_result"
    }
   ],
   "source": [
    "np.append(a,[1,2,3])"
   ]
  },
  {
   "cell_type": "code",
   "execution_count": 16,
   "metadata": {},
   "outputs": [
    {
     "data": {
      "text/plain": [
       "array([1, 5, 2, 3, 4])"
      ]
     },
     "execution_count": 16,
     "metadata": {},
     "output_type": "execute_result"
    }
   ],
   "source": [
    "np.insert(a, 1, 5) #insert 5 on position number 1"
   ]
  },
  {
   "cell_type": "markdown",
   "metadata": {},
   "source": [
    "### Basic arithmetics with numpy arrays"
   ]
  },
  {
   "cell_type": "code",
   "execution_count": 17,
   "metadata": {},
   "outputs": [
    {
     "data": {
      "text/plain": [
       "array([4, 5, 6, 7])"
      ]
     },
     "execution_count": 17,
     "metadata": {},
     "output_type": "execute_result"
    }
   ],
   "source": [
    "a + 3"
   ]
  },
  {
   "cell_type": "code",
   "execution_count": 18,
   "metadata": {},
   "outputs": [
    {
     "data": {
      "text/plain": [
       "array([ 3,  6,  9, 12])"
      ]
     },
     "execution_count": 18,
     "metadata": {},
     "output_type": "execute_result"
    }
   ],
   "source": [
    "a * 3"
   ]
  },
  {
   "cell_type": "code",
   "execution_count": 19,
   "metadata": {},
   "outputs": [
    {
     "data": {
      "text/plain": [
       "array([ 1,  8, 27, 64])"
      ]
     },
     "execution_count": 19,
     "metadata": {},
     "output_type": "execute_result"
    }
   ],
   "source": [
    "a ** 3"
   ]
  },
  {
   "cell_type": "code",
   "execution_count": 20,
   "metadata": {},
   "outputs": [
    {
     "data": {
      "text/plain": [
       "array([ 1,  4,  9, 16])"
      ]
     },
     "execution_count": 20,
     "metadata": {},
     "output_type": "execute_result"
    }
   ],
   "source": [
    "a * a"
   ]
  },
  {
   "cell_type": "code",
   "execution_count": 21,
   "metadata": {},
   "outputs": [
    {
     "data": {
      "text/plain": [
       "10"
      ]
     },
     "execution_count": 21,
     "metadata": {},
     "output_type": "execute_result"
    }
   ],
   "source": [
    "a.sum()"
   ]
  },
  {
   "cell_type": "code",
   "execution_count": 22,
   "metadata": {},
   "outputs": [
    {
     "data": {
      "text/plain": [
       "array([[ 1,  4],\n",
       "       [ 9, 16]])"
      ]
     },
     "execution_count": 22,
     "metadata": {},
     "output_type": "execute_result"
    }
   ],
   "source": [
    "m * m #still elementwise multiplication"
   ]
  },
  {
   "cell_type": "code",
   "execution_count": 23,
   "metadata": {},
   "outputs": [
    {
     "data": {
      "text/plain": [
       "array([[ 7, 10],\n",
       "       [15, 22]])"
      ]
     },
     "execution_count": 23,
     "metadata": {},
     "output_type": "execute_result"
    }
   ],
   "source": [
    "np.dot(m,m) #standard matrix multiplication"
   ]
  },
  {
   "cell_type": "code",
   "execution_count": 24,
   "metadata": {},
   "outputs": [
    {
     "data": {
      "text/plain": [
       "matrix([[ 7, 10],\n",
       "        [15, 22]])"
      ]
     },
     "execution_count": 24,
     "metadata": {},
     "output_type": "execute_result"
    }
   ],
   "source": [
    "m = np.matrix(m) #there is a type matrix\n",
    "m * m #for matrices, multiplication works as we're used to"
   ]
  },
  {
   "cell_type": "markdown",
   "metadata": {},
   "source": [
    "### Some functions to create arrays"
   ]
  },
  {
   "cell_type": "code",
   "execution_count": 25,
   "metadata": {},
   "outputs": [
    {
     "data": {
      "text/plain": [
       "array([0, 2, 4, 6, 8])"
      ]
     },
     "execution_count": 25,
     "metadata": {},
     "output_type": "execute_result"
    }
   ],
   "source": [
    "x = np.arange(0,10,2) #beginning, end, step\n",
    "x"
   ]
  },
  {
   "cell_type": "code",
   "execution_count": 28,
   "metadata": {},
   "outputs": [
    {
     "data": {
      "text/plain": [
       "array([  0.        ,   1.11111111,   2.22222222,   3.33333333,\n",
       "         4.44444444,   5.55555556,   6.66666667,   7.77777778,\n",
       "         8.88888889,  10.        ])"
      ]
     },
     "execution_count": 28,
     "metadata": {},
     "output_type": "execute_result"
    }
   ],
   "source": [
    "np.linspace(0,10,10) #beginning, end, number of variables"
   ]
  },
  {
   "cell_type": "code",
   "execution_count": 29,
   "metadata": {},
   "outputs": [
    {
     "data": {
      "text/plain": [
       "array([  1.00000000e+00,   2.16011948e+00,   4.66611616e+00,\n",
       "         1.00793684e+01,   2.17726400e+01,   4.70315038e+01,\n",
       "         1.01593667e+02,   2.19454460e+02,   4.74047853e+02,\n",
       "         1.02400000e+03])"
      ]
     },
     "execution_count": 29,
     "metadata": {},
     "output_type": "execute_result"
    }
   ],
   "source": [
    "np.logspace(0,10,10,base=2) #beginning, end, number of variables"
   ]
  },
  {
   "cell_type": "code",
   "execution_count": 30,
   "metadata": {},
   "outputs": [
    {
     "data": {
      "text/plain": [
       "array([[1, 0, 0],\n",
       "       [0, 2, 0],\n",
       "       [0, 0, 3]])"
      ]
     },
     "execution_count": 30,
     "metadata": {},
     "output_type": "execute_result"
    }
   ],
   "source": [
    "np.diag([1,2,3])"
   ]
  },
  {
   "cell_type": "code",
   "execution_count": 31,
   "metadata": {},
   "outputs": [
    {
     "data": {
      "text/plain": [
       "array([ 0.,  0.,  0.,  0.,  0.])"
      ]
     },
     "execution_count": 31,
     "metadata": {},
     "output_type": "execute_result"
    }
   ],
   "source": [
    "np.zeros(5)"
   ]
  },
  {
   "cell_type": "code",
   "execution_count": 32,
   "metadata": {},
   "outputs": [
    {
     "data": {
      "text/plain": [
       "array([[ 1.,  1.,  1.],\n",
       "       [ 1.,  1.,  1.],\n",
       "       [ 1.,  1.,  1.]])"
      ]
     },
     "execution_count": 32,
     "metadata": {},
     "output_type": "execute_result"
    }
   ],
   "source": [
    "np.ones((3,3))"
   ]
  },
  {
   "cell_type": "code",
   "execution_count": 33,
   "metadata": {},
   "outputs": [
    {
     "data": {
      "text/plain": [
       "array([[ 0.69264681,  0.17550431],\n",
       "       [ 0.49450672,  0.9465809 ],\n",
       "       [ 0.6052853 ,  0.32028344],\n",
       "       [ 0.88699052,  0.3744377 ],\n",
       "       [ 0.11524805,  0.80376991]])"
      ]
     },
     "execution_count": 33,
     "metadata": {},
     "output_type": "execute_result"
    }
   ],
   "source": [
    "np.random.rand(5,2)"
   ]
  },
  {
   "cell_type": "markdown",
   "metadata": {},
   "source": [
    "### Some linear algebra functions"
   ]
  },
  {
   "cell_type": "code",
   "execution_count": 34,
   "metadata": {},
   "outputs": [
    {
     "data": {
      "text/plain": [
       "array([1, 4])"
      ]
     },
     "execution_count": 34,
     "metadata": {},
     "output_type": "execute_result"
    }
   ],
   "source": [
    "np.diag(m)"
   ]
  },
  {
   "cell_type": "code",
   "execution_count": 35,
   "metadata": {},
   "outputs": [
    {
     "data": {
      "text/plain": [
       "5"
      ]
     },
     "execution_count": 35,
     "metadata": {},
     "output_type": "execute_result"
    }
   ],
   "source": [
    "np.trace(m)"
   ]
  },
  {
   "cell_type": "code",
   "execution_count": 36,
   "metadata": {},
   "outputs": [
    {
     "data": {
      "text/plain": [
       "matrix([[1, 3],\n",
       "        [2, 4]])"
      ]
     },
     "execution_count": 36,
     "metadata": {},
     "output_type": "execute_result"
    }
   ],
   "source": [
    "m.T"
   ]
  },
  {
   "cell_type": "code",
   "execution_count": 37,
   "metadata": {},
   "outputs": [
    {
     "data": {
      "text/plain": [
       "matrix([[-2. ,  1. ],\n",
       "        [ 1.5, -0.5]])"
      ]
     },
     "execution_count": 37,
     "metadata": {},
     "output_type": "execute_result"
    }
   ],
   "source": [
    "m1 = np.linalg.inv(m)\n",
    "m1"
   ]
  },
  {
   "cell_type": "code",
   "execution_count": 38,
   "metadata": {},
   "outputs": [
    {
     "data": {
      "text/plain": [
       "-2.0000000000000004"
      ]
     },
     "execution_count": 38,
     "metadata": {},
     "output_type": "execute_result"
    }
   ],
   "source": [
    "np.linalg.det(m)"
   ]
  },
  {
   "cell_type": "code",
   "execution_count": 39,
   "metadata": {},
   "outputs": [
    {
     "data": {
      "text/plain": [
       "-0.50000000000000011"
      ]
     },
     "execution_count": 39,
     "metadata": {},
     "output_type": "execute_result"
    }
   ],
   "source": [
    "np.linalg.det(m1)"
   ]
  },
  {
   "cell_type": "code",
   "execution_count": 40,
   "metadata": {
    "collapsed": true
   },
   "outputs": [],
   "source": [
    "[eival, eivec] = np.linalg.eig(m)"
   ]
  },
  {
   "cell_type": "code",
   "execution_count": 41,
   "metadata": {},
   "outputs": [
    {
     "data": {
      "text/plain": [
       "array([-0.37228132,  5.37228132])"
      ]
     },
     "execution_count": 41,
     "metadata": {},
     "output_type": "execute_result"
    }
   ],
   "source": [
    "eival"
   ]
  },
  {
   "cell_type": "code",
   "execution_count": 42,
   "metadata": {},
   "outputs": [
    {
     "data": {
      "text/plain": [
       "matrix([[-0.82456484, -0.41597356],\n",
       "        [ 0.56576746, -0.90937671]])"
      ]
     },
     "execution_count": 42,
     "metadata": {},
     "output_type": "execute_result"
    }
   ],
   "source": [
    "eivec"
   ]
  },
  {
   "cell_type": "code",
   "execution_count": 44,
   "metadata": {},
   "outputs": [
    {
     "data": {
      "text/plain": [
       "array([[ 0.70690769,  0.87174352,  0.74294744,  0.32653873,  0.68009762,\n",
       "         0.1470322 ,  0.0223547 ,  0.51252694,  0.88278452,  0.80080283,\n",
       "         0.20471094,  0.41037036,  0.80218855,  0.50609837,  0.05909689,\n",
       "         0.54238232,  0.00424131,  0.16352804,  0.98483386,  0.38433303,\n",
       "         0.64113957,  0.78447256,  0.40947648,  0.82965555,  0.42005641,\n",
       "         0.57799219,  0.49622592,  0.0484381 ,  0.75427031,  0.39175014,\n",
       "         0.42071189,  0.36350871,  0.90441693,  0.79122642,  0.57840094,\n",
       "         0.66418711,  0.06171153,  0.63392399,  0.08820408,  0.35377163,\n",
       "         0.69717974,  0.62888098,  0.85114108,  0.8865983 ,  0.60546021,\n",
       "         0.58707732,  0.03423213,  0.03205447,  0.02148668,  0.40841778],\n",
       "       [ 0.88106537,  0.70803588,  0.0053766 ,  0.25433748,  0.1159593 ,\n",
       "         0.81342927,  0.64656282,  0.03611832,  0.65779037,  0.29280131,\n",
       "         0.7973056 ,  0.567041  ,  0.51371253,  0.25437605,  0.45425806,\n",
       "         0.27373894,  0.34992437,  0.50313964,  0.48288863,  0.52781205,\n",
       "         0.69615485,  0.1845688 ,  0.75403389,  0.8295608 ,  0.45994502,\n",
       "         0.32483652,  0.89094647,  0.32772472,  0.32789852,  0.63358318,\n",
       "         0.77849539,  0.79505387,  0.57493713,  0.94645201,  0.70129678,\n",
       "         0.85996733,  0.70296429,  0.20919107,  0.87443745,  0.22921078,\n",
       "         0.61442815,  0.36408018,  0.29684466,  0.84776927,  0.41215572,\n",
       "         0.8308438 ,  0.23608402,  0.71093259,  0.68339066,  0.52497557],\n",
       "       [ 0.79510437,  0.96043134,  0.47095221,  0.95964599,  0.06232291,\n",
       "         0.76299723,  0.43095517,  0.4883772 ,  0.92333927,  0.0507749 ,\n",
       "         0.90020191,  0.37418952,  0.6605456 ,  0.09545561,  0.02996939,\n",
       "         0.67676801,  0.93490665,  0.19291117,  0.71282024,  0.4510777 ,\n",
       "         0.14413579,  0.60680269,  0.9861566 ,  0.34945822,  0.41223214,\n",
       "         0.57949219,  0.34786809,  0.019868  ,  0.65021686,  0.29152694,\n",
       "         0.26043576,  0.86105421,  0.65574721,  0.77693937,  0.55806349,\n",
       "         0.77205704,  0.6671169 ,  0.24227671,  0.90507757,  0.77990314,\n",
       "         0.60473071,  0.44528736,  0.95937449,  0.10611964,  0.75158814,\n",
       "         0.66879486,  0.52943248,  0.29831503,  0.22946047,  0.4082618 ],\n",
       "       [ 0.4853653 ,  0.35006371,  0.62463596,  0.58037859,  0.39266193,\n",
       "         0.96963596,  0.48899089,  0.24238422,  0.67824001,  0.09113413,\n",
       "         0.74514332,  0.77420809,  0.71766102,  0.33085295,  0.20226485,\n",
       "         0.47231852,  0.41024493,  0.30119912,  0.02143772,  0.6599223 ,\n",
       "         0.93099432,  0.45257574,  0.64334466,  0.86579139,  0.7921685 ,\n",
       "         0.05039926,  0.78186343,  0.23834154,  0.89234715,  0.34579496,\n",
       "         0.23781605,  0.62607168,  0.09473549,  0.75042673,  0.97765756,\n",
       "         0.06405435,  0.36949604,  0.57924069,  0.26174826,  0.55806858,\n",
       "         0.03792262,  0.79058563,  0.7474157 ,  0.25976821,  0.91489364,\n",
       "         0.97653298,  0.97526388,  0.16134387,  0.62348011,  0.23355299],\n",
       "       [ 0.90025838,  0.06952619,  0.17735644,  0.54813258,  0.68886404,\n",
       "         0.38731082,  0.49797665,  0.51077435,  0.45003028,  0.9728436 ,\n",
       "         0.99787343,  0.91548988,  0.26475414,  0.32978317,  0.72962074,\n",
       "         0.85455682,  0.48809432,  0.72570235,  0.72612861,  0.51823693,\n",
       "         0.15984273,  0.30140979,  0.89501023,  0.32685462,  0.32207152,\n",
       "         0.81169945,  0.76629897,  0.68225346,  0.69011796,  0.54009056,\n",
       "         0.56665488,  0.26546711,  0.61980802,  0.95003197,  0.98116324,\n",
       "         0.3210487 ,  0.29888848,  0.97096533,  0.81985952,  0.48452411,\n",
       "         0.91194627,  0.22994662,  0.18237462,  0.5989834 ,  0.83885907,\n",
       "         0.79659167,  0.91555595,  0.95593462,  0.79529527,  0.14608487],\n",
       "       [ 0.73081347,  0.23988546,  0.91744222,  0.571761  ,  0.65505253,\n",
       "         0.52556507,  0.72247691,  0.385251  ,  0.592732  ,  0.8143434 ,\n",
       "         0.72222933,  0.76322293,  0.46816738,  0.87854514,  0.05706416,\n",
       "         0.41938484,  0.51857006,  0.84201565,  0.75316187,  0.30532075,\n",
       "         0.31275897,  0.43202661,  0.23308893,  0.46996764,  0.62223691,\n",
       "         0.23119034,  0.91292347,  0.42614543,  0.68891191,  0.61501141,\n",
       "         0.42516198,  0.78442584,  0.95427292,  0.37156488,  0.72913736,\n",
       "         0.06095232,  0.39774982,  0.16906818,  0.28858991,  0.64452019,\n",
       "         0.93001862,  0.99058114,  0.54306062,  0.1393206 ,  0.96930803,\n",
       "         0.51553877,  0.74223448,  0.72444041,  0.71706773,  0.56174683],\n",
       "       [ 0.76880254,  0.19765465,  0.32664846,  0.48915249,  0.36739199,\n",
       "         0.43515547,  0.29183486,  0.1811534 ,  0.11189442,  0.50389865,\n",
       "         0.22147769,  0.37675878,  0.98061645,  0.42295308,  0.98249827,\n",
       "         0.09495123,  0.39044668,  0.61924029,  0.75555164,  0.28040663,\n",
       "         0.07261011,  0.37894692,  0.93003988,  0.15222189,  0.22555618,\n",
       "         0.93632914,  0.99232857,  0.87621705,  0.78470866,  0.23609265,\n",
       "         0.93033373,  0.68149158,  0.23975778,  0.303245  ,  0.89991396,\n",
       "         0.02845991,  0.66988314,  0.44097109,  0.27077876,  0.18676078,\n",
       "         0.04036168,  0.37899228,  0.8184624 ,  0.21689135,  0.80213464,\n",
       "         0.03074698,  0.97769493,  0.14715006,  0.20782496,  0.49539654],\n",
       "       [ 0.82106676,  0.46690891,  0.02301508,  0.4397872 ,  0.37426938,\n",
       "         0.25389   ,  0.59405917,  0.72946179,  0.21404973,  0.41650074,\n",
       "         0.94251265,  0.65665128,  0.21470511,  0.30006362,  0.7025232 ,\n",
       "         0.1678298 ,  0.42680842,  0.64084979,  0.18899473,  0.52252741,\n",
       "         0.61100388,  0.33262511,  0.73320863,  0.24708523,  0.88961617,\n",
       "         0.60882703,  0.0948151 ,  0.49996234,  0.93739059,  0.12916202,\n",
       "         0.25624477,  0.29053977,  0.54882212,  0.41876697,  0.97089634,\n",
       "         0.88187941,  0.70129444,  0.72825881,  0.796872  ,  0.47885018,\n",
       "         0.41426384,  0.43107928,  0.41215627,  0.29440829,  0.09713656,\n",
       "         0.74287129,  0.79788634,  0.99746963,  0.42765976,  0.3819298 ],\n",
       "       [ 0.9453772 ,  0.552325  ,  0.3158584 ,  0.10821814,  0.62886973,\n",
       "         0.57337991,  0.27511781,  0.74447353,  0.20841979,  0.87621305,\n",
       "         0.29394519,  0.26808707,  0.01900166,  0.59663889,  0.22319914,\n",
       "         0.30126918,  0.74952944,  0.61146259,  0.13605617,  0.19603452,\n",
       "         0.32077237,  0.39484553,  0.91666798,  0.75922872,  0.74015096,\n",
       "         0.64296876,  0.81416057,  0.69379282,  0.14000611,  0.75435367,\n",
       "         0.7593706 ,  0.10965481,  0.50310352,  0.25544981,  0.06558042,\n",
       "         0.53604683,  0.59347842,  0.11986112,  0.49471184,  0.697051  ,\n",
       "         0.93493984,  0.00789457,  0.44790158,  0.65495552,  0.23265568,\n",
       "         0.13498513,  0.95548558,  0.14572979,  0.56908623,  0.94117989],\n",
       "       [ 0.75545106,  0.27304957,  0.6211647 ,  0.07792083,  0.57399354,\n",
       "         0.5922846 ,  0.73301788,  0.86979919,  0.66874724,  0.33907865,\n",
       "         0.4132768 ,  0.96403867,  0.26152424,  0.21830636,  0.87891986,\n",
       "         0.33482801,  0.56989219,  0.12786765,  0.01379183,  0.09780513,\n",
       "         0.57665014,  0.26227412,  0.94952753,  0.74439856,  0.8842575 ,\n",
       "         0.89065359,  0.85974826,  0.03108941,  0.56714707,  0.15853649,\n",
       "         0.1727983 ,  0.04610938,  0.72929658,  0.14768887,  0.73132988,\n",
       "         0.82092227,  0.98471178,  0.09535795,  0.25184098,  0.27059467,\n",
       "         0.40003386,  0.79136722,  0.61208511,  0.97337484,  0.69726519,\n",
       "         0.909754  ,  0.57737995,  0.2354391 ,  0.2231041 ,  0.78850078]])"
      ]
     },
     "execution_count": 44,
     "metadata": {},
     "output_type": "execute_result"
    }
   ],
   "source": [
    "x= np.random.rand(10,50)\n",
    "x"
   ]
  },
  {
   "cell_type": "code",
   "execution_count": 45,
   "metadata": {
    "collapsed": true
   },
   "outputs": [],
   "source": [
    " c = np.dot(x.T,x)"
   ]
  },
  {
   "cell_type": "code",
   "execution_count": 46,
   "metadata": {},
   "outputs": [
    {
     "data": {
      "text/plain": [
       "array([[ 6.21797091,  3.67527493,  3.07560089, ...,  3.60230974,\n",
       "         3.55983451,  3.91116274],\n",
       "       [ 3.67527493,  3.00529374,  1.97423284, ...,  1.75413512,\n",
       "         1.78453749,  2.35789541],\n",
       "       [ 3.07560089,  1.97423284,  2.62996244, ...,  1.3663835 ,\n",
       "         1.71213315,  2.14337136],\n",
       "       ..., \n",
       "       [ 3.60230974,  1.75413512,  1.3663835 , ...,  3.15336878,\n",
       "         2.52792208,  1.86904939],\n",
       "       [ 3.55983451,  1.78453749,  1.71213315, ...,  2.52792208,\n",
       "         2.65526339,  2.1036477 ],\n",
       "       [ 3.91116274,  2.35789541,  2.14337136, ...,  1.86904939,\n",
       "         2.1036477 ,  2.89937059]])"
      ]
     },
     "execution_count": 46,
     "metadata": {},
     "output_type": "execute_result"
    }
   ],
   "source": [
    "c"
   ]
  },
  {
   "cell_type": "code",
   "execution_count": 47,
   "metadata": {},
   "outputs": [
    {
     "data": {
      "text/plain": [
       "0.0"
      ]
     },
     "execution_count": 47,
     "metadata": {},
     "output_type": "execute_result"
    }
   ],
   "source": [
    "np.linalg.det(c)"
   ]
  },
  {
   "cell_type": "code",
   "execution_count": null,
   "metadata": {
    "collapsed": true
   },
   "outputs": [],
   "source": []
  }
 ],
 "metadata": {
  "kernelspec": {
   "display_name": "Python 3",
   "language": "python",
   "name": "python3"
  },
  "language_info": {
   "codemirror_mode": {
    "name": "ipython",
    "version": 3
   },
   "file_extension": ".py",
   "mimetype": "text/x-python",
   "name": "python",
   "nbconvert_exporter": "python",
   "pygments_lexer": "ipython3",
   "version": "3.6.2"
  }
 },
 "nbformat": 4,
 "nbformat_minor": 2
}
